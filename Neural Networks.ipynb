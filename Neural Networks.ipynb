{
 "cells": [
  {
   "cell_type": "code",
   "execution_count": 75,
   "metadata": {
    "collapsed": true
   },
   "outputs": [],
   "source": [
    "import numpy as np\n",
    "import math"
   ]
  },
  {
   "cell_type": "markdown",
   "metadata": {},
   "source": [
    "## Neural Net Class\n",
    "\n",
    "Weights is a three dimensional vector with the number of layers needed, and then rows and columns of the vector.\n",
    "Bias is also a three dimensional vector, but it only has one column.\n",
    "The values are then randomized."
   ]
  },
  {
   "cell_type": "code",
   "execution_count": 214,
   "metadata": {
    "collapsed": false
   },
   "outputs": [],
   "source": [
    "class NeuralNet(object):\n",
    "    def __init__(self, layers, rows, col):\n",
    "        self.rows=rows\n",
    "        self.col=col  \n",
    "        self.weights=np.empty((layers, rows, col))\n",
    "        self.bias=np.empty((layers, rows, 1))\n",
    "        for i in range(layers):\n",
    "            self.weights[i]=np.random.rand(rows, col)\n",
    "            self.bias[i]=np.random.rand(rows, 1)\n",
    "    def feedforward(self, train, layer, training_point):\n",
    "        return (np.dot(self.weights[layer], train.input[training_point])+self.bias)[0]\n",
    "    def sigmoid(self, train, layer, training_point):\n",
    "        output=self.feedforward(train, layer, training_point)\n",
    "        for i in range(train.dim):\n",
    "            output[i]=1/(1+math.exp(-output[i]))\n",
    "        return output\n",
    "    def error(self, train, layer, training_point):\n",
    "        return self.sigmoid(train, layer, training_point)-train.target[training_point]\n",
    "    def grad(self, train, layer, training_point):\n",
    "        for row in range(self.rows):\n",
    "            err=self.error( train, layer, training_point)[row]\n",
    "            sig=self.sigmoid( train, layer, training_point)[row]\n",
    "            for col in range(self.col):\n",
    "                self.weights[layer][row][col] -= .001*err*(sig)*(1-sig)*(train.input[layer][col])\n",
    "        \n",
    "    \n",
    "        \n",
    "    "
   ]
  },
  {
   "cell_type": "code",
   "execution_count": 215,
   "metadata": {
    "collapsed": false
   },
   "outputs": [],
   "source": [
    "class Trainer:\n",
    "    def __init__(self, max_points, dim):\n",
    "        self.dim=dim\n",
    "        self.training_points=0\n",
    "        self.input=np.empty((max_points, dim, 1))\n",
    "        self.target=np.empty((max_points, dim, 1))\n",
    "    def add_point(self, inp, tar):\n",
    "        self.input[self.training_points]=inp\n",
    "        self.target[self.training_points]=tar\n",
    "        self.training_points+=1\n",
    "        "
   ]
  },
  {
   "cell_type": "code",
   "execution_count": 220,
   "metadata": {
    "collapsed": false
   },
   "outputs": [
    {
     "data": {
      "text/plain": [
       "array([[[ 0.7482168 ,  0.99165554],\n",
       "        [ 0.11022622,  0.69663444]]])"
      ]
     },
     "execution_count": 220,
     "metadata": {},
     "output_type": "execute_result"
    }
   ],
   "source": [
    "y=Trainer(1,2)\n",
    "y.add_point(np.array(([5], [1])), np.array(([.99], [.01])))\n",
    "x=NeuralNet(1,2,2)\n",
    "x.weights\n"
   ]
  },
  {
   "cell_type": "code",
   "execution_count": 217,
   "metadata": {
    "collapsed": false
   },
   "outputs": [],
   "source": [
    "x.grad(y, 0, 0)"
   ]
  },
  {
   "cell_type": "code",
   "execution_count": 219,
   "metadata": {
    "collapsed": false
   },
   "outputs": [
    {
     "data": {
      "text/plain": [
       "array([[[ 0.05609837,  0.31551538],\n",
       "        [ 0.96857322,  0.68446251]]])"
      ]
     },
     "execution_count": 219,
     "metadata": {},
     "output_type": "execute_result"
    }
   ],
   "source": [
    "x.weights"
   ]
  },
  {
   "cell_type": "code",
   "execution_count": null,
   "metadata": {
    "collapsed": true
   },
   "outputs": [],
   "source": []
  }
 ],
 "metadata": {
  "kernelspec": {
   "display_name": "Python 2",
   "language": "python",
   "name": "python2"
  },
  "language_info": {
   "codemirror_mode": {
    "name": "ipython",
    "version": 2
   },
   "file_extension": ".py",
   "mimetype": "text/x-python",
   "name": "python",
   "nbconvert_exporter": "python",
   "pygments_lexer": "ipython2",
   "version": "2.7.11"
  }
 },
 "nbformat": 4,
 "nbformat_minor": 0
}
