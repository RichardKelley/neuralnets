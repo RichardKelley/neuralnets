{
 "cells": [
  {
   "cell_type": "code",
   "execution_count": 1,
   "metadata": {
    "collapsed": true
   },
   "outputs": [],
   "source": [
    "import numpy as np"
   ]
  },
  {
   "cell_type": "markdown",
   "metadata": {},
   "source": [
    "## Neural Net Class\n",
    "\n",
    "Weights is a three dimensional vector with the number of layers needed, and then rows and columns of the vector.\n",
    "Bias is also a three dimensional vector, but it only has one column.\n",
    "The values are then randomized."
   ]
  },
  {
   "cell_type": "code",
   "execution_count": 20,
   "metadata": {
    "collapsed": false
   },
   "outputs": [
    {
     "ename": "SyntaxError",
     "evalue": "invalid syntax (<ipython-input-20-5b87d0063c90>, line 10)",
     "output_type": "error",
     "traceback": [
      "\u001b[1;36m  File \u001b[1;32m\"<ipython-input-20-5b87d0063c90>\"\u001b[1;36m, line \u001b[1;32m10\u001b[0m\n\u001b[1;33m    def error(self, train)\u001b[0m\n\u001b[1;37m                          ^\u001b[0m\n\u001b[1;31mSyntaxError\u001b[0m\u001b[1;31m:\u001b[0m invalid syntax\n"
     ]
    }
   ],
   "source": [
    "class NeuralNet(object):\n",
    "    def __init__(self, layers, rows, col):\n",
    "        self.weights=np.empty((layers, rows, col))\n",
    "        self.bias=np.empty((layers, rows, 1))\n",
    "        for i in range(layers):\n",
    "            self.weights[i]=np.random.rand(rows, col)\n",
    "            self.bias[i]=np.random.rand(rows, 1)\n",
    "    def feedforward(self, train, layer):\n",
    "        return np.dot(self.weights[0], train.input[layer])+self.bias\n",
    "    def error(self, train, layer):\n",
    "        return self.feedforward()\n",
    "        \n",
    "    "
   ]
  },
  {
   "cell_type": "code",
   "execution_count": 5,
   "metadata": {
    "collapsed": false
   },
   "outputs": [],
   "source": [
    "class Trainer:\n",
    "    def __init__(self, max_points, dim):\n",
    "        self.training_points=0\n",
    "        self.input=np.empty((max_points, dim, 1))\n",
    "        self.output=np.empty((max_points, dim, 1))\n",
    "    def add_point(self, inp, out):\n",
    "        self.input[self.training_points]=inp\n",
    "        self.output[self.training_points]=out\n",
    "        self.training_points+=1\n",
    "        "
   ]
  },
  {
   "cell_type": "code",
   "execution_count": 15,
   "metadata": {
    "collapsed": false
   },
   "outputs": [],
   "source": [
    "y=Trainer(10000, 2)"
   ]
  },
  {
   "cell_type": "code",
   "execution_count": 16,
   "metadata": {
    "collapsed": false
   },
   "outputs": [],
   "source": [
    "y.add_point(np.random.rand(2,1), np.random.rand(2,1))"
   ]
  },
  {
   "cell_type": "code",
   "execution_count": 17,
   "metadata": {
    "collapsed": true
   },
   "outputs": [],
   "source": [
    "x=NeuralNet(1, 2, 2)"
   ]
  },
  {
   "cell_type": "code",
   "execution_count": 18,
   "metadata": {
    "collapsed": false
   },
   "outputs": [
    {
     "data": {
      "text/plain": [
       "array([[[ 0.90538161],\n",
       "        [ 1.45331178]]])"
      ]
     },
     "execution_count": 18,
     "metadata": {},
     "output_type": "execute_result"
    }
   ],
   "source": [
    "x.feedforward(y.input[0])"
   ]
  },
  {
   "cell_type": "code",
   "execution_count": 12,
   "metadata": {
    "collapsed": false
   },
   "outputs": [
    {
     "data": {
      "text/plain": [
       "array([[[ 0.02182866],\n",
       "        [ 0.91990128]]])"
      ]
     },
     "execution_count": 12,
     "metadata": {},
     "output_type": "execute_result"
    }
   ],
   "source": [
    "x.bias"
   ]
  },
  {
   "cell_type": "code",
   "execution_count": null,
   "metadata": {
    "collapsed": true
   },
   "outputs": [],
   "source": []
  }
 ],
 "metadata": {
  "kernelspec": {
   "display_name": "Python 2",
   "language": "python",
   "name": "python2"
  },
  "language_info": {
   "codemirror_mode": {
    "name": "ipython",
    "version": 2
   },
   "file_extension": ".py",
   "mimetype": "text/x-python",
   "name": "python",
   "nbconvert_exporter": "python",
   "pygments_lexer": "ipython2",
   "version": "2.7.11"
  }
 },
 "nbformat": 4,
 "nbformat_minor": 0
}
