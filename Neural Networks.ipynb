{
 "cells": [
  {
   "cell_type": "code",
   "execution_count": 1,
   "metadata": {
    "collapsed": true
   },
   "outputs": [],
   "source": [
    "import numpy as np"
   ]
  },
  {
   "cell_type": "markdown",
   "metadata": {},
   "source": [
    "## Neural Net Class\n",
    "\n",
    "Weights is a three dimensional vector with the number of layers needed, and then rows and columns of the vector.\n",
    "Bias is also a three dimensional vector, but it only has one column.\n",
    "The values are then randomized."
   ]
  },
  {
   "cell_type": "code",
   "execution_count": 21,
   "metadata": {
    "collapsed": false
   },
   "outputs": [],
   "source": [
    "class NeuralNet(object):\n",
    "    def __init__(self, layers, rows, col):\n",
    "        self.weights=np.empty((layers, rows, col))\n",
    "        self.bias=np.empty((layers, rows, 1))\n",
    "        for i in range(layers):\n",
    "            self.weights[i]=np.random.rand(rows, col)\n",
    "            self.bias[i]=np.random.rand(rows, 1)\n",
    "    def feedforward(self, train, layer):\n",
    "        return np.dot(self.weights[0], train.input[layer])+self.bias\n",
    "    def error(self, train, layer):\n",
    "        return self.feedforward(train, layer)-train.output\n",
    "        \n",
    "    "
   ]
  },
  {
   "cell_type": "code",
   "execution_count": 22,
   "metadata": {
    "collapsed": false
   },
   "outputs": [],
   "source": [
    "class Trainer:\n",
    "    def __init__(self, max_points, dim):\n",
    "        self.training_points=0\n",
    "        self.input=np.empty((max_points, dim, 1))\n",
    "        self.output=np.empty((max_points, dim, 1))\n",
    "    def add_point(self, inp, out):\n",
    "        self.input[self.training_points]=inp\n",
    "        self.output[self.training_points]=out\n",
    "        self.training_points+=1\n",
    "        "
   ]
  },
  {
   "cell_type": "code",
   "execution_count": 23,
   "metadata": {
    "collapsed": false
   },
   "outputs": [],
   "source": [
    "y=Trainer(10000, 2)"
   ]
  },
  {
   "cell_type": "code",
   "execution_count": 24,
   "metadata": {
    "collapsed": false
   },
   "outputs": [],
   "source": [
    "y.add_point(np.random.rand(2,1), np.random.rand(2,1))"
   ]
  },
  {
   "cell_type": "code",
   "execution_count": 25,
   "metadata": {
    "collapsed": true
   },
   "outputs": [],
   "source": [
    "x=NeuralNet(1, 2, 2)"
   ]
  },
  {
   "cell_type": "code",
   "execution_count": 27,
   "metadata": {
    "collapsed": false
   },
   "outputs": [
    {
     "data": {
      "text/plain": [
       "array([[[ 0.51938609],\n",
       "        [ 0.73671352]]])"
      ]
     },
     "execution_count": 27,
     "metadata": {},
     "output_type": "execute_result"
    }
   ],
   "source": [
    "x.feedforward(y, 1)"
   ]
  },
  {
   "cell_type": "code",
   "execution_count": 28,
   "metadata": {
    "collapsed": false
   },
   "outputs": [
    {
     "data": {
      "text/plain": [
       "array([[[-0.45548356],\n",
       "        [ 0.52138996]],\n",
       "\n",
       "       [[ 0.51938609],\n",
       "        [ 0.73671352]],\n",
       "\n",
       "       [[ 0.51938609],\n",
       "        [ 0.73671352]],\n",
       "\n",
       "       ..., \n",
       "       [[ 0.51938609],\n",
       "        [ 0.73671352]],\n",
       "\n",
       "       [[ 0.51938609],\n",
       "        [ 0.73671352]],\n",
       "\n",
       "       [[ 0.51938609],\n",
       "        [ 0.73671352]]])"
      ]
     },
     "execution_count": 28,
     "metadata": {},
     "output_type": "execute_result"
    }
   ],
   "source": [
    "x.error(y,1)"
   ]
  },
  {
   "cell_type": "code",
   "execution_count": null,
   "metadata": {
    "collapsed": true
   },
   "outputs": [],
   "source": []
  }
 ],
 "metadata": {
  "kernelspec": {
   "display_name": "Python 2",
   "language": "python",
   "name": "python2"
  },
  "language_info": {
   "codemirror_mode": {
    "name": "ipython",
    "version": 2
   },
   "file_extension": ".py",
   "mimetype": "text/x-python",
   "name": "python",
   "nbconvert_exporter": "python",
   "pygments_lexer": "ipython2",
   "version": "2.7.11"
  }
 },
 "nbformat": 4,
 "nbformat_minor": 0
}
